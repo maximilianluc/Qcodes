{
 "cells": [
  {
   "cell_type": "markdown",
   "metadata": {},
   "source": [
    "# DataSet Performance\n",
    "\n",
    "This notebook shows the trade-off between inserting data into a database row-by-row and as binary blobs. Inserting the data row-by-row means that we have direct access to all the data and may perform queries directly on the values of the data. On the other hand, as we shall see, this is much slower than inserting the data directly as binary blobs."
   ]
  },
  {
   "cell_type": "markdown",
   "metadata": {},
   "source": [
    "First, we choose a new location for the database to ensure that we don't add a bunch of benchmarking data to the default one."
   ]
  },
  {
   "cell_type": "code",
   "execution_count": 1,
   "metadata": {
    "execution": {
     "iopub.execute_input": "2022-05-16T10:02:58.580366Z",
     "iopub.status.busy": "2022-05-16T10:02:58.580102Z",
     "iopub.status.idle": "2022-05-16T10:02:58.813875Z",
     "shell.execute_reply": "2022-05-16T10:02:58.813313Z"
    }
   },
   "outputs": [],
   "source": [
    "import os\n",
    "cwd = os.getcwd()\n",
    "import qcodes as qc\n",
    "qc.config[\"core\"][\"db_location\"] = os.path.join(cwd, 'testing.db')\n"
   ]
  },
  {
   "cell_type": "code",
   "execution_count": 2,
   "metadata": {
    "execution": {
     "iopub.execute_input": "2022-05-16T10:02:58.817612Z",
     "iopub.status.busy": "2022-05-16T10:02:58.817069Z",
     "iopub.status.idle": "2022-05-16T10:02:59.400943Z",
     "shell.execute_reply": "2022-05-16T10:02:59.400362Z"
    }
   },
   "outputs": [],
   "source": [
    "%matplotlib inline\n",
    "import time\n",
    "import matplotlib.pyplot as plt\n",
    "import numpy as np\n",
    "\n",
    "import qcodes as qc\n",
    "from qcodes.instrument.parameter import ManualParameter\n",
    "from qcodes.dataset.experiment_container import (Experiment,\n",
    "                                                 load_last_experiment,\n",
    "                                                 new_experiment)\n",
    "from qcodes.dataset.sqlite.database import initialise_database\n",
    "from qcodes import load_or_create_experiment\n",
    "from qcodes.dataset.measurements import Measurement"
   ]
  },
  {
   "cell_type": "code",
   "execution_count": 3,
   "metadata": {
    "execution": {
     "iopub.execute_input": "2022-05-16T10:02:59.404110Z",
     "iopub.status.busy": "2022-05-16T10:02:59.403547Z",
     "iopub.status.idle": "2022-05-16T10:02:59.520680Z",
     "shell.execute_reply": "2022-05-16T10:02:59.520111Z"
    }
   },
   "outputs": [
    {
     "name": "stdout",
     "output_type": "stream",
     "text": [
      "\r",
      "0it [00:00, ?it/s]"
     ]
    },
    {
     "name": "stdout",
     "output_type": "stream",
     "text": [
      "\r",
      "Upgrading database; v0 -> v1: : 0it [00:00, ?it/s]"
     ]
    },
    {
     "name": "stdout",
     "output_type": "stream",
     "text": [
      "\r",
      "Upgrading database; v0 -> v1: : 0it [00:00, ?it/s]"
     ]
    },
    {
     "name": "stdout",
     "output_type": "stream",
     "text": [
      "\n"
     ]
    },
    {
     "name": "stdout",
     "output_type": "stream",
     "text": [
      "\r",
      "  0%|          | 0/1 [00:00<?, ?it/s]"
     ]
    },
    {
     "name": "stdout",
     "output_type": "stream",
     "text": [
      "\r",
      "Upgrading database; v1 -> v2:   0%|          | 0/1 [00:00<?, ?it/s]"
     ]
    },
    {
     "name": "stdout",
     "output_type": "stream",
     "text": [
      "\r",
      "Upgrading database; v1 -> v2: 100%|██████████| 1/1 [00:00<00:00, 688.83it/s]"
     ]
    },
    {
     "name": "stdout",
     "output_type": "stream",
     "text": [
      "\n"
     ]
    },
    {
     "name": "stdout",
     "output_type": "stream",
     "text": [
      "\r",
      "0it [00:00, ?it/s]"
     ]
    },
    {
     "name": "stdout",
     "output_type": "stream",
     "text": [
      "\r",
      "Upgrading database; v2 -> v3: : 0it [00:00, ?it/s]"
     ]
    },
    {
     "name": "stdout",
     "output_type": "stream",
     "text": [
      "\r",
      "Upgrading database; v2 -> v3: : 0it [00:00, ?it/s]"
     ]
    },
    {
     "name": "stdout",
     "output_type": "stream",
     "text": [
      "\n"
     ]
    },
    {
     "name": "stdout",
     "output_type": "stream",
     "text": [
      "\r",
      "0it [00:00, ?it/s]"
     ]
    },
    {
     "name": "stdout",
     "output_type": "stream",
     "text": [
      "\r",
      "Upgrading database; v3 -> v4: : 0it [00:00, ?it/s]"
     ]
    },
    {
     "name": "stdout",
     "output_type": "stream",
     "text": [
      "\r",
      "Upgrading database; v3 -> v4: : 0it [00:00, ?it/s]"
     ]
    },
    {
     "name": "stdout",
     "output_type": "stream",
     "text": [
      "\n"
     ]
    },
    {
     "name": "stdout",
     "output_type": "stream",
     "text": [
      "\r",
      "  0%|          | 0/1 [00:00<?, ?it/s]"
     ]
    },
    {
     "name": "stdout",
     "output_type": "stream",
     "text": [
      "\r",
      "Upgrading database; v4 -> v5:   0%|          | 0/1 [00:00<?, ?it/s]"
     ]
    },
    {
     "name": "stdout",
     "output_type": "stream",
     "text": [
      "\r",
      "Upgrading database; v4 -> v5: 100%|██████████| 1/1 [00:00<00:00, 487.82it/s]"
     ]
    },
    {
     "name": "stdout",
     "output_type": "stream",
     "text": [
      "\n"
     ]
    },
    {
     "name": "stdout",
     "output_type": "stream",
     "text": [
      "\r",
      "0it [00:00, ?it/s]"
     ]
    },
    {
     "name": "stdout",
     "output_type": "stream",
     "text": [
      "\r",
      "Upgrading database; v5 -> v6: : 0it [00:00, ?it/s]"
     ]
    },
    {
     "name": "stdout",
     "output_type": "stream",
     "text": [
      "\r",
      "Upgrading database; v5 -> v6: : 0it [00:00, ?it/s]"
     ]
    },
    {
     "name": "stdout",
     "output_type": "stream",
     "text": [
      "\n"
     ]
    },
    {
     "name": "stdout",
     "output_type": "stream",
     "text": [
      "\r",
      "  0%|          | 0/1 [00:00<?, ?it/s]"
     ]
    },
    {
     "name": "stdout",
     "output_type": "stream",
     "text": [
      "\r",
      "Upgrading database; v6 -> v7:   0%|          | 0/1 [00:00<?, ?it/s]"
     ]
    },
    {
     "name": "stdout",
     "output_type": "stream",
     "text": [
      "\r",
      "Upgrading database; v6 -> v7: 100%|██████████| 1/1 [00:00<00:00, 402.72it/s]"
     ]
    },
    {
     "name": "stdout",
     "output_type": "stream",
     "text": [
      "\n"
     ]
    },
    {
     "name": "stdout",
     "output_type": "stream",
     "text": [
      "\r",
      "  0%|          | 0/1 [00:00<?, ?it/s]"
     ]
    },
    {
     "name": "stdout",
     "output_type": "stream",
     "text": [
      "\r",
      "Upgrading database; v7 -> v8:   0%|          | 0/1 [00:00<?, ?it/s]"
     ]
    },
    {
     "name": "stdout",
     "output_type": "stream",
     "text": [
      "\r",
      "Upgrading database; v7 -> v8: 100%|██████████| 1/1 [00:00<00:00, 1196.66it/s]"
     ]
    },
    {
     "name": "stdout",
     "output_type": "stream",
     "text": [
      "\n"
     ]
    },
    {
     "name": "stdout",
     "output_type": "stream",
     "text": [
      "\r",
      "  0%|          | 0/1 [00:00<?, ?it/s]"
     ]
    },
    {
     "name": "stdout",
     "output_type": "stream",
     "text": [
      "\r",
      "Upgrading database; v8 -> v9:   0%|          | 0/1 [00:00<?, ?it/s]"
     ]
    },
    {
     "name": "stdout",
     "output_type": "stream",
     "text": [
      "\r",
      "Upgrading database; v8 -> v9: 100%|██████████| 1/1 [00:00<00:00, 456.85it/s]"
     ]
    },
    {
     "name": "stdout",
     "output_type": "stream",
     "text": [
      "\n"
     ]
    }
   ],
   "source": [
    "initialise_database()\n",
    "exp = load_or_create_experiment(experiment_name='tutorial_exp', sample_name=\"no sample\")"
   ]
  },
  {
   "cell_type": "markdown",
   "metadata": {},
   "source": [
    "Here, we define a simple function to benchmark the time it takes to insert n points with either numeric or array data type.\n",
    "We will compare both the time used to call ``add_result`` and the time used for the full measurement."
   ]
  },
  {
   "cell_type": "code",
   "execution_count": 4,
   "metadata": {
    "execution": {
     "iopub.execute_input": "2022-05-16T10:02:59.523546Z",
     "iopub.status.busy": "2022-05-16T10:02:59.523036Z",
     "iopub.status.idle": "2022-05-16T10:02:59.531660Z",
     "shell.execute_reply": "2022-05-16T10:02:59.531140Z"
    }
   },
   "outputs": [],
   "source": [
    "def insert_data(paramtype, npoints, nreps=1):\n",
    "\n",
    "    meas = Measurement(exp=exp)\n",
    "\n",
    "    x1 = ManualParameter('x1')\n",
    "    x2 = ManualParameter('x2')\n",
    "    x3 = ManualParameter('x3')\n",
    "    y1 = ManualParameter('y1')\n",
    "    y2 = ManualParameter('y2')\n",
    "\n",
    "    meas.register_parameter(x1, paramtype=paramtype)\n",
    "    meas.register_parameter(x2, paramtype=paramtype)\n",
    "    meas.register_parameter(x3, paramtype=paramtype)\n",
    "    meas.register_parameter(y1, setpoints=[x1, x2, x3],\n",
    "                            paramtype=paramtype)\n",
    "    meas.register_parameter(y2, setpoints=[x1, x2, x3],\n",
    "                            paramtype=paramtype)\n",
    "    start = time.perf_counter()\n",
    "    with meas.run() as datasaver:\n",
    "        start_adding = time.perf_counter()\n",
    "        for i in range(nreps):\n",
    "            datasaver.add_result((x1, np.random.rand(npoints)),\n",
    "                                 (x2, np.random.rand(npoints)),\n",
    "                                 (x3, np.random.rand(npoints)),\n",
    "                                 (y1, np.random.rand(npoints)),\n",
    "                                 (y2, np.random.rand(npoints)))\n",
    "        stop_adding = time.perf_counter()\n",
    "        run_id = datasaver.run_id\n",
    "    stop = time.perf_counter()\n",
    "    tot_time = stop - start\n",
    "    add_time = stop_adding - start_adding\n",
    "    return tot_time, add_time, run_id"
   ]
  },
  {
   "cell_type": "markdown",
   "metadata": {},
   "source": [
    "## Comparison between numeric/array data and binary blob"
   ]
  },
  {
   "cell_type": "markdown",
   "metadata": {},
   "source": [
    "### Case1: Short experiment time"
   ]
  },
  {
   "cell_type": "code",
   "execution_count": 5,
   "metadata": {
    "execution": {
     "iopub.execute_input": "2022-05-16T10:02:59.534214Z",
     "iopub.status.busy": "2022-05-16T10:02:59.533891Z",
     "iopub.status.idle": "2022-05-16T10:03:00.133691Z",
     "shell.execute_reply": "2022-05-16T10:03:00.133124Z"
    }
   },
   "outputs": [
    {
     "name": "stdout",
     "output_type": "stream",
     "text": [
      "Starting experimental run with id: 1. \n",
      "Starting experimental run with id: 2. \n",
      "Starting experimental run with id: 3. \n",
      "Starting experimental run with id: 4. \n",
      "Starting experimental run with id: 5. \n"
     ]
    },
    {
     "name": "stdout",
     "output_type": "stream",
     "text": [
      "Starting experimental run with id: 6. \n"
     ]
    },
    {
     "name": "stdout",
     "output_type": "stream",
     "text": [
      "Starting experimental run with id: 7. \n"
     ]
    },
    {
     "name": "stdout",
     "output_type": "stream",
     "text": [
      "Starting experimental run with id: 8. \n",
      "Starting experimental run with id: 9. \n"
     ]
    },
    {
     "name": "stdout",
     "output_type": "stream",
     "text": [
      "Starting experimental run with id: 10. \n",
      "Starting experimental run with id: 11. \n"
     ]
    },
    {
     "name": "stdout",
     "output_type": "stream",
     "text": [
      "Starting experimental run with id: 12. \n",
      "Starting experimental run with id: 13. \n"
     ]
    },
    {
     "name": "stdout",
     "output_type": "stream",
     "text": [
      "Starting experimental run with id: 14. \n"
     ]
    }
   ],
   "source": [
    "sizes = [1,500,1000,2000,3000,4000,5000]\n",
    "t_numeric = []\n",
    "t_numeric_add = []\n",
    "t_array = []\n",
    "t_array_add = []\n",
    "for size in sizes:\n",
    "    tn, tna, run_id_n =  insert_data('numeric', size)\n",
    "    t_numeric.append(tn)\n",
    "    t_numeric_add.append(tna)\n",
    "\n",
    "    ta, taa, run_id_a =  insert_data('array', size)\n",
    "    t_array.append(ta)\n",
    "    t_array_add.append(taa)"
   ]
  },
  {
   "cell_type": "code",
   "execution_count": 6,
   "metadata": {
    "execution": {
     "iopub.execute_input": "2022-05-16T10:03:00.136529Z",
     "iopub.status.busy": "2022-05-16T10:03:00.136096Z",
     "iopub.status.idle": "2022-05-16T10:03:00.298869Z",
     "shell.execute_reply": "2022-05-16T10:03:00.298301Z"
    }
   },
   "outputs": [
    {
     "data": {
      "image/png": "[encoded data removed]",
      "text/plain": [
       "<Figure size 432x288 with 1 Axes>"
      ]
     },
     "metadata": {
      "needs_background": "light"
     },
     "output_type": "display_data"
    }
   ],
   "source": [
    "fig, ax = plt.subplots(1,1)\n",
    "ax.plot(sizes, t_numeric, 'o-', label='Inserting row-by-row')\n",
    "ax.plot(sizes, t_numeric_add, 'o-', label='Inserting row-by-row: add_result only')\n",
    "ax.plot(sizes, t_array, 'd-', label='Inserting as binary blob')\n",
    "ax.plot(sizes, t_array_add, 'd-', label='Inserting as binary blob: add_result only')\n",
    "ax.legend()\n",
    "ax.set_xlabel('Array length')\n",
    "ax.set_ylabel('Time (s)')\n",
    "fig.tight_layout()"
   ]
  },
  {
   "cell_type": "markdown",
   "metadata": {},
   "source": [
    "As shown in the latter figure, the time to setup and and close the experiment is approximately 0.4 sec. In case of small array sizes, the difference between inserting values of data as arrays and inserting them row-by-row is relatively unimportant. At larger array sizes, i.e. above 10000 points, the cost of writing data as individual datapoints starts to become important.\n"
   ]
  },
  {
   "cell_type": "markdown",
   "metadata": {},
   "source": [
    "### Case2: Long experiment time "
   ]
  },
  {
   "cell_type": "code",
   "execution_count": 7,
   "metadata": {
    "execution": {
     "iopub.execute_input": "2022-05-16T10:03:00.301559Z",
     "iopub.status.busy": "2022-05-16T10:03:00.301329Z",
     "iopub.status.idle": "2022-05-16T10:03:42.247566Z",
     "shell.execute_reply": "2022-05-16T10:03:42.246986Z"
    }
   },
   "outputs": [
    {
     "name": "stdout",
     "output_type": "stream",
     "text": [
      "Starting experimental run with id: 15. \n"
     ]
    },
    {
     "name": "stdout",
     "output_type": "stream",
     "text": [
      "Starting experimental run with id: 16. \n",
      "Starting experimental run with id: 17. \n"
     ]
    },
    {
     "name": "stdout",
     "output_type": "stream",
     "text": [
      "Starting experimental run with id: 18. \n",
      "Starting experimental run with id: 19. \n"
     ]
    },
    {
     "name": "stdout",
     "output_type": "stream",
     "text": [
      "Starting experimental run with id: 20. \n",
      "Starting experimental run with id: 21. \n"
     ]
    },
    {
     "name": "stdout",
     "output_type": "stream",
     "text": [
      "Starting experimental run with id: 22. \n",
      "Starting experimental run with id: 23. \n"
     ]
    },
    {
     "name": "stdout",
     "output_type": "stream",
     "text": [
      "Starting experimental run with id: 24. \n"
     ]
    },
    {
     "name": "stdout",
     "output_type": "stream",
     "text": [
      "Starting experimental run with id: 25. \n"
     ]
    },
    {
     "name": "stdout",
     "output_type": "stream",
     "text": [
      "Starting experimental run with id: 26. \n"
     ]
    },
    {
     "name": "stdout",
     "output_type": "stream",
     "text": [
      "Starting experimental run with id: 27. \n"
     ]
    },
    {
     "name": "stdout",
     "output_type": "stream",
     "text": [
      "Starting experimental run with id: 28. \n"
     ]
    }
   ],
   "source": [
    "sizes = [1,500,1000,2000,3000,4000,5000]\n",
    "nreps = 100\n",
    "t_numeric = []\n",
    "t_numeric_add = []\n",
    "t_numeric_run_ids = []\n",
    "t_array = []\n",
    "t_array_add = []\n",
    "t_array_run_ids = []\n",
    "for size in sizes:\n",
    "    tn, tna, run_id_n =  insert_data('numeric', size, nreps=nreps)\n",
    "    t_numeric.append(tn)\n",
    "    t_numeric_add.append(tna)\n",
    "    t_numeric_run_ids.append(run_id_n)\n",
    "\n",
    "    ta, taa, run_id_a =  insert_data('array', size, nreps=nreps)\n",
    "    t_array.append(ta)\n",
    "    t_array_add.append(taa)\n",
    "    t_array_run_ids.append(run_id_a)"
   ]
  },
  {
   "cell_type": "code",
   "execution_count": 8,
   "metadata": {
    "execution": {
     "iopub.execute_input": "2022-05-16T10:03:42.251232Z",
     "iopub.status.busy": "2022-05-16T10:03:42.250729Z",
     "iopub.status.idle": "2022-05-16T10:03:42.397559Z",
     "shell.execute_reply": "2022-05-16T10:03:42.396986Z"
    },
    "scrolled": true
   },
   "outputs": [
    {
     "data": {
      "image/png": "[encoded data removed]",
      "text/plain": [
       "<Figure size 432x288 with 1 Axes>"
      ]
     },
     "metadata": {
      "needs_background": "light"
     },
     "output_type": "display_data"
    }
   ],
   "source": [
    "fig, ax = plt.subplots(1,1)\n",
    "ax.plot(sizes, t_numeric, 'o-', label='Inserting row-by-row')\n",
    "ax.plot(sizes, t_numeric_add, 'o-', label='Inserting row-by-row: add_result only')\n",
    "ax.plot(sizes, t_array, 'd-', label='Inserting as binary blob')\n",
    "ax.plot(sizes, t_array_add, 'd-', label='Inserting as binary blob: add_result only')\n",
    "ax.legend()\n",
    "ax.set_xlabel('Array length')\n",
    "ax.set_ylabel('Time (s)')\n",
    "fig.tight_layout()"
   ]
  },
  {
   "cell_type": "markdown",
   "metadata": {},
   "source": [
    "However, as we increase the length of the experiment, as seen here by repeating the insertion 100 times, we see a big difference between inserting values of the data row-by-row and inserting it as a binary blob."
   ]
  },
  {
   "cell_type": "markdown",
   "metadata": {},
   "source": [
    "## Loading the data "
   ]
  },
  {
   "cell_type": "code",
   "execution_count": 9,
   "metadata": {
    "execution": {
     "iopub.execute_input": "2022-05-16T10:03:42.400960Z",
     "iopub.status.busy": "2022-05-16T10:03:42.400489Z",
     "iopub.status.idle": "2022-05-16T10:03:42.404790Z",
     "shell.execute_reply": "2022-05-16T10:03:42.404284Z"
    }
   },
   "outputs": [],
   "source": [
    "from qcodes.dataset.data_set import load_by_id"
   ]
  },
  {
   "cell_type": "markdown",
   "metadata": {},
   "source": [
    "As usual you can load the data by using the ``load_by_id`` function but you will notice that the different storage methods\n",
    "are reflected in shape of the data as it is retrieved. "
   ]
  },
  {
   "cell_type": "code",
   "execution_count": 10,
   "metadata": {
    "execution": {
     "iopub.execute_input": "2022-05-16T10:03:42.407785Z",
     "iopub.status.busy": "2022-05-16T10:03:42.407306Z",
     "iopub.status.idle": "2022-05-16T10:03:42.411380Z",
     "shell.execute_reply": "2022-05-16T10:03:42.410872Z"
    }
   },
   "outputs": [],
   "source": [
    "run_id_n = t_numeric_run_ids[0]\n",
    "run_id_a = t_array_run_ids[0]"
   ]
  },
  {
   "cell_type": "code",
   "execution_count": 11,
   "metadata": {
    "execution": {
     "iopub.execute_input": "2022-05-16T10:03:42.413981Z",
     "iopub.status.busy": "2022-05-16T10:03:42.413743Z",
     "iopub.status.idle": "2022-05-16T10:03:42.422486Z",
     "shell.execute_reply": "2022-05-16T10:03:42.421940Z"
    },
    "scrolled": true
   },
   "outputs": [
    {
     "data": {
      "text/plain": [
       "{'x1': {'x1': array([0.64441787, 0.64441787, 0.95490362, 0.95490362, 0.86878763,\n",
       "         0.86878763, 0.26545145, 0.26545145, 0.52814018, 0.52814018,\n",
       "         0.26273375, 0.26273375, 0.40228153, 0.40228153, 0.14784542,\n",
       "         0.14784542, 0.80763168, 0.80763168, 0.61631219, 0.61631219,\n",
       "         0.01168062, 0.01168062, 0.61955421, 0.61955421, 0.80707242,\n",
       "         0.80707242, 0.19451683, 0.19451683, 0.37643628, 0.37643628,\n",
       "         0.91355456, 0.91355456, 0.35405389, 0.35405389, 0.5758929 ,\n",
       "         0.5758929 , 0.09496705, 0.09496705, 0.19227142, 0.19227142,\n",
       "         0.7740404 , 0.7740404 , 0.49495328, 0.49495328, 0.91741656,\n",
       "         0.91741656, 0.21597466, 0.21597466, 0.87475874, 0.87475874,\n",
       "         0.72756279, 0.72756279, 0.30194486, 0.30194486, 0.50902018,\n",
       "         0.50902018, 0.57082006, 0.57082006, 0.35993124, 0.35993124,\n",
       "         0.7802765 , 0.7802765 , 0.42764155, 0.42764155, 0.79742715,\n",
       "         0.79742715, 0.00120801, 0.00120801, 0.50031835, 0.50031835,\n",
       "         0.33452678, 0.33452678, 0.02725901, 0.02725901, 0.29191373,\n",
       "         0.29191373, 0.75396903, 0.75396903, 0.86126684, 0.86126684,\n",
       "         0.96710312, 0.96710312, 0.92690027, 0.92690027, 0.60346825,\n",
       "         0.60346825, 0.56982893, 0.56982893, 0.80291487, 0.80291487,\n",
       "         0.34032342, 0.34032342, 0.65619178, 0.65619178, 0.98010772,\n",
       "         0.98010772, 0.06532107, 0.06532107, 0.03448854, 0.03448854,\n",
       "         0.30814908, 0.30814908, 0.15978656, 0.15978656, 0.87735461,\n",
       "         0.87735461, 0.55369789, 0.55369789, 0.53194437, 0.53194437,\n",
       "         0.50743172, 0.50743172, 0.63234955, 0.63234955, 0.44119785,\n",
       "         0.44119785, 0.93399235, 0.93399235, 0.70473348, 0.70473348,\n",
       "         0.93638644, 0.93638644, 0.76722056, 0.76722056, 0.04652103,\n",
       "         0.04652103, 0.410367  , 0.410367  , 0.30189412, 0.30189412,\n",
       "         0.19530698, 0.19530698, 0.01800076, 0.01800076, 0.35002848,\n",
       "         0.35002848, 0.69162102, 0.69162102, 0.64505605, 0.64505605,\n",
       "         0.81679841, 0.81679841, 0.4285472 , 0.4285472 , 0.07769224,\n",
       "         0.07769224, 0.44079639, 0.44079639, 0.07412516, 0.07412516,\n",
       "         0.26650986, 0.26650986, 0.99902141, 0.99902141, 0.87889687,\n",
       "         0.87889687, 0.04240886, 0.04240886, 0.86435686, 0.86435686,\n",
       "         0.31867449, 0.31867449, 0.96665504, 0.96665504, 0.32023545,\n",
       "         0.32023545, 0.07661583, 0.07661583, 0.55098905, 0.55098905,\n",
       "         0.68901646, 0.68901646, 0.45187022, 0.45187022, 0.66028777,\n",
       "         0.66028777, 0.1213079 , 0.1213079 , 0.59050775, 0.59050775,\n",
       "         0.10216325, 0.10216325, 0.72189089, 0.72189089, 0.03887173,\n",
       "         0.03887173, 0.78452603, 0.78452603, 0.42861869, 0.42861869,\n",
       "         0.26671865, 0.26671865, 0.91555868, 0.91555868, 0.97384666,\n",
       "         0.97384666, 0.4276693 , 0.4276693 , 0.14956673, 0.14956673])}}"
      ]
     },
     "execution_count": 11,
     "metadata": {},
     "output_type": "execute_result"
    }
   ],
   "source": [
    "ds = load_by_id(run_id_n)\n",
    "ds.get_parameter_data('x1')"
   ]
  },
  {
   "cell_type": "markdown",
   "metadata": {},
   "source": [
    "And a dataset stored as binary arrays"
   ]
  },
  {
   "cell_type": "code",
   "execution_count": 12,
   "metadata": {
    "execution": {
     "iopub.execute_input": "2022-05-16T10:03:42.425387Z",
     "iopub.status.busy": "2022-05-16T10:03:42.424915Z",
     "iopub.status.idle": "2022-05-16T10:03:42.469701Z",
     "shell.execute_reply": "2022-05-16T10:03:42.469110Z"
    },
    "scrolled": true
   },
   "outputs": [
    {
     "data": {
      "text/plain": [
       "{'x1': {'x1': array([[0.9684349 ],\n",
       "         [0.9684349 ],\n",
       "         [0.12535451],\n",
       "         [0.12535451],\n",
       "         [0.96262723],\n",
       "         [0.96262723],\n",
       "         [0.6273336 ],\n",
       "         [0.6273336 ],\n",
       "         [0.17204403],\n",
       "         [0.17204403],\n",
       "         [0.02395631],\n",
       "         [0.02395631],\n",
       "         [0.86680259],\n",
       "         [0.86680259],\n",
       "         [0.79312798],\n",
       "         [0.79312798],\n",
       "         [0.13251103],\n",
       "         [0.13251103],\n",
       "         [0.92930058],\n",
       "         [0.92930058],\n",
       "         [0.5977935 ],\n",
       "         [0.5977935 ],\n",
       "         [0.2423734 ],\n",
       "         [0.2423734 ],\n",
       "         [0.10229101],\n",
       "         [0.10229101],\n",
       "         [0.90244167],\n",
       "         [0.90244167],\n",
       "         [0.59453796],\n",
       "         [0.59453796],\n",
       "         [0.19487729],\n",
       "         [0.19487729],\n",
       "         [0.36975807],\n",
       "         [0.36975807],\n",
       "         [0.81018379],\n",
       "         [0.81018379],\n",
       "         [0.88811236],\n",
       "         [0.88811236],\n",
       "         [0.20025994],\n",
       "         [0.20025994],\n",
       "         [0.82024029],\n",
       "         [0.82024029],\n",
       "         [0.22863334],\n",
       "         [0.22863334],\n",
       "         [0.97661655],\n",
       "         [0.97661655],\n",
       "         [0.09350886],\n",
       "         [0.09350886],\n",
       "         [0.12662096],\n",
       "         [0.12662096],\n",
       "         [0.83340719],\n",
       "         [0.83340719],\n",
       "         [0.2966274 ],\n",
       "         [0.2966274 ],\n",
       "         [0.90055197],\n",
       "         [0.90055197],\n",
       "         [0.04653769],\n",
       "         [0.04653769],\n",
       "         [0.72712444],\n",
       "         [0.72712444],\n",
       "         [0.16028178],\n",
       "         [0.16028178],\n",
       "         [0.90896529],\n",
       "         [0.90896529],\n",
       "         [0.13061996],\n",
       "         [0.13061996],\n",
       "         [0.19939659],\n",
       "         [0.19939659],\n",
       "         [0.60972068],\n",
       "         [0.60972068],\n",
       "         [0.70675473],\n",
       "         [0.70675473],\n",
       "         [0.91595982],\n",
       "         [0.91595982],\n",
       "         [0.38474917],\n",
       "         [0.38474917],\n",
       "         [0.00458069],\n",
       "         [0.00458069],\n",
       "         [0.08179744],\n",
       "         [0.08179744],\n",
       "         [0.80620442],\n",
       "         [0.80620442],\n",
       "         [0.48851351],\n",
       "         [0.48851351],\n",
       "         [0.13258398],\n",
       "         [0.13258398],\n",
       "         [0.41666532],\n",
       "         [0.41666532],\n",
       "         [0.6109728 ],\n",
       "         [0.6109728 ],\n",
       "         [0.19962245],\n",
       "         [0.19962245],\n",
       "         [0.31994543],\n",
       "         [0.31994543],\n",
       "         [0.15472842],\n",
       "         [0.15472842],\n",
       "         [0.68936127],\n",
       "         [0.68936127],\n",
       "         [0.44128604],\n",
       "         [0.44128604],\n",
       "         [0.42458362],\n",
       "         [0.42458362],\n",
       "         [0.07226435],\n",
       "         [0.07226435],\n",
       "         [0.2649958 ],\n",
       "         [0.2649958 ],\n",
       "         [0.96485881],\n",
       "         [0.96485881],\n",
       "         [0.29185396],\n",
       "         [0.29185396],\n",
       "         [0.13731992],\n",
       "         [0.13731992],\n",
       "         [0.11344975],\n",
       "         [0.11344975],\n",
       "         [0.93687765],\n",
       "         [0.93687765],\n",
       "         [0.19233152],\n",
       "         [0.19233152],\n",
       "         [0.9529346 ],\n",
       "         [0.9529346 ],\n",
       "         [0.64102398],\n",
       "         [0.64102398],\n",
       "         [0.30281383],\n",
       "         [0.30281383],\n",
       "         [0.4797357 ],\n",
       "         [0.4797357 ],\n",
       "         [0.05975418],\n",
       "         [0.05975418],\n",
       "         [0.89961751],\n",
       "         [0.89961751],\n",
       "         [0.54063379],\n",
       "         [0.54063379],\n",
       "         [0.66217368],\n",
       "         [0.66217368],\n",
       "         [0.2232528 ],\n",
       "         [0.2232528 ],\n",
       "         [0.49634296],\n",
       "         [0.49634296],\n",
       "         [0.60075877],\n",
       "         [0.60075877],\n",
       "         [0.87668963],\n",
       "         [0.87668963],\n",
       "         [0.87574632],\n",
       "         [0.87574632],\n",
       "         [0.84252746],\n",
       "         [0.84252746],\n",
       "         [0.30872642],\n",
       "         [0.30872642],\n",
       "         [0.51882524],\n",
       "         [0.51882524],\n",
       "         [0.68384411],\n",
       "         [0.68384411],\n",
       "         [0.54870898],\n",
       "         [0.54870898],\n",
       "         [0.50051237],\n",
       "         [0.50051237],\n",
       "         [0.30620626],\n",
       "         [0.30620626],\n",
       "         [0.06730042],\n",
       "         [0.06730042],\n",
       "         [0.29181237],\n",
       "         [0.29181237],\n",
       "         [0.94558173],\n",
       "         [0.94558173],\n",
       "         [0.09720245],\n",
       "         [0.09720245],\n",
       "         [0.70819488],\n",
       "         [0.70819488],\n",
       "         [0.13341824],\n",
       "         [0.13341824],\n",
       "         [0.55110871],\n",
       "         [0.55110871],\n",
       "         [0.68352389],\n",
       "         [0.68352389],\n",
       "         [0.3302549 ],\n",
       "         [0.3302549 ],\n",
       "         [0.61077562],\n",
       "         [0.61077562],\n",
       "         [0.12647523],\n",
       "         [0.12647523],\n",
       "         [0.87747526],\n",
       "         [0.87747526],\n",
       "         [0.68795144],\n",
       "         [0.68795144],\n",
       "         [0.55036631],\n",
       "         [0.55036631],\n",
       "         [0.21236523],\n",
       "         [0.21236523],\n",
       "         [0.23118774],\n",
       "         [0.23118774],\n",
       "         [0.1098721 ],\n",
       "         [0.1098721 ],\n",
       "         [0.73883908],\n",
       "         [0.73883908],\n",
       "         [0.53610073],\n",
       "         [0.53610073],\n",
       "         [0.12124104],\n",
       "         [0.12124104],\n",
       "         [0.59795108],\n",
       "         [0.59795108]])}}"
      ]
     },
     "execution_count": 12,
     "metadata": {},
     "output_type": "execute_result"
    }
   ],
   "source": [
    "ds = load_by_id(run_id_a)\n",
    "ds.get_parameter_data('x1')"
   ]
  },
  {
   "cell_type": "code",
   "execution_count": null,
   "metadata": {},
   "outputs": [],
   "source": []
  }
 ],
 "metadata": {
  "kernelspec": {
   "display_name": "Python 3",
   "language": "python",
   "name": "python3"
  },
  "language_info": {
   "codemirror_mode": {
    "name": "ipython",
    "version": 3
   },
   "file_extension": ".py",
   "mimetype": "text/x-python",
   "name": "python",
   "nbconvert_exporter": "python",
   "pygments_lexer": "ipython3",
   "version": "3.9.12"
  },
  "nbsphinx": {
   "timeout": 600
  },
  "toc": {
   "base_numbering": 1,
   "nav_menu": {},
   "number_sections": true,
   "sideBar": true,
   "skip_h1_title": false,
   "title_cell": "Table of Contents",
   "title_sidebar": "Contents",
   "toc_cell": false,
   "toc_position": {},
   "toc_section_display": true,
   "toc_window_display": false
  },
  "varInspector": {
   "cols": {
    "lenName": 16,
    "lenType": 16,
    "lenVar": 40
   },
   "kernels_config": {
    "python": {
     "delete_cmd_postfix": "",
     "delete_cmd_prefix": "del ",
     "library": "var_list.py",
     "varRefreshCmd": "print(var_dic_list())"
    },
    "r": {
     "delete_cmd_postfix": ") ",
     "delete_cmd_prefix": "rm(",
     "library": "var_list.r",
     "varRefreshCmd": "cat(var_dic_list()) "
    }
   },
   "types_to_exclude": [
    "module",
    "function",
    "builtin_function_or_method",
    "instance",
    "_Feature"
   ],
   "window_display": false
  }
 },
 "nbformat": 4,
 "nbformat_minor": 4
}
