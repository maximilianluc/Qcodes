{
 "cells": [
  {
   "cell_type": "markdown",
   "id": "plain-primary",
   "metadata": {},
   "source": [
    "# Qcodes example with DelegateInstrument driver\n",
    "\n",
    "This notebooks explains how to use the `DelegateInstrument` driver.\n",
    "\n",
    "## About\n",
    "The goal of the `DelegateInstrument` driver is to make it easier to combine different parameters together into a new \"virtual\" instrument. Each parameter on a `DelegateInstrument` can point to one or more parameters on other instruments in the station.\n",
    "\n",
    "## Usage\n",
    "The way it's used is mainly by specifying an entry in the station YAML. For instance, let's say you want to use a magnetic field coil. The driver has a method set_field(value, block), that by default is set to block=True, which means the field is ramped in a way that blocks further execution until the desired value is reached. However, let's say you are creating a measurement in which you want the parameter to be set, and while the value is ramping, you want to measure other parameters. This can be done by using `DelegateInstrument` and specifying a custom `setter` for the parameter that gets and sets the magnetic field.\n",
    "\n",
    "By default, each parameter is represented by a `DelegateParameter`. The `DelegateInstrument` also supports passing multiple source parameters to a given parameter. In order to do this, simply specify multiple parameters in the dictionary values  under the `parameters` key.\n",
    "\n",
    "It can also add instrument channels, specified under a separate key `channels`, shown in the second half of the notebook."
   ]
  },
  {
   "cell_type": "code",
   "execution_count": 1,
   "id": "sapphire-quebec",
   "metadata": {
    "execution": {
     "iopub.execute_input": "2022-05-16T10:08:27.383765Z",
     "iopub.status.busy": "2022-05-16T10:08:27.383435Z",
     "iopub.status.idle": "2022-05-16T10:08:27.391985Z",
     "shell.execute_reply": "2022-05-16T10:08:27.391299Z"
    }
   },
   "outputs": [
    {
     "name": "stdout",
     "output_type": "stream",
     "text": [
      "Writing example.yaml\n"
     ]
    }
   ],
   "source": [
    "%%writefile example.yaml\n",
    "\n",
    "instruments:\n",
    "  field_X:\n",
    "    type: qcodes.tests.instrument_mocks.MockField\n",
    "\n",
    "  field:\n",
    "    type: qcodes.instrument.delegate.DelegateInstrument\n",
    "    init:\n",
    "      parameters:\n",
    "        X:\n",
    "          - field_X.field\n",
    "        ramp_rate:\n",
    "          - field_X.ramp_rate\n",
    "        combined:\n",
    "          - field_X.field\n",
    "          - field_X.ramp_rate\n",
    "      set_initial_values_on_load: true\n",
    "      initial_values:\n",
    "        ramp_rate: 1.0\n",
    "      setters:\n",
    "        X:\n",
    "          method: field_X.set_field\n",
    "          block: false"
   ]
  },
  {
   "cell_type": "code",
   "execution_count": 2,
   "id": "younger-newspaper",
   "metadata": {
    "execution": {
     "iopub.execute_input": "2022-05-16T10:08:27.394661Z",
     "iopub.status.busy": "2022-05-16T10:08:27.394438Z",
     "iopub.status.idle": "2022-05-16T10:08:27.619332Z",
     "shell.execute_reply": "2022-05-16T10:08:27.618787Z"
    }
   },
   "outputs": [],
   "source": [
    "import qcodes as qc"
   ]
  },
  {
   "cell_type": "code",
   "execution_count": 3,
   "id": "muslim-briefs",
   "metadata": {
    "execution": {
     "iopub.execute_input": "2022-05-16T10:08:27.622663Z",
     "iopub.status.busy": "2022-05-16T10:08:27.622102Z",
     "iopub.status.idle": "2022-05-16T10:08:27.636056Z",
     "shell.execute_reply": "2022-05-16T10:08:27.635580Z"
    }
   },
   "outputs": [],
   "source": [
    "station = qc.Station(config_file=\"example.yaml\")"
   ]
  },
  {
   "cell_type": "code",
   "execution_count": 4,
   "id": "greatest-antenna",
   "metadata": {
    "execution": {
     "iopub.execute_input": "2022-05-16T10:08:27.639059Z",
     "iopub.status.busy": "2022-05-16T10:08:27.638612Z",
     "iopub.status.idle": "2022-05-16T10:08:27.665972Z",
     "shell.execute_reply": "2022-05-16T10:08:27.664956Z"
    }
   },
   "outputs": [],
   "source": [
    "field_X = station.load_field_X()\n",
    "field = station.load_field(station=station)"
   ]
  },
  {
   "cell_type": "code",
   "execution_count": 5,
   "id": "every-playing",
   "metadata": {
    "execution": {
     "iopub.execute_input": "2022-05-16T10:08:27.668654Z",
     "iopub.status.busy": "2022-05-16T10:08:27.668348Z",
     "iopub.status.idle": "2022-05-16T10:08:27.678157Z",
     "shell.execute_reply": "2022-05-16T10:08:27.677685Z"
    }
   },
   "outputs": [
    {
     "data": {
      "text/plain": [
       "0.0"
      ]
     },
     "execution_count": 5,
     "metadata": {},
     "output_type": "execute_result"
    }
   ],
   "source": [
    "field.X()"
   ]
  },
  {
   "cell_type": "code",
   "execution_count": 6,
   "id": "undefined-worst",
   "metadata": {
    "execution": {
     "iopub.execute_input": "2022-05-16T10:08:27.680914Z",
     "iopub.status.busy": "2022-05-16T10:08:27.680602Z",
     "iopub.status.idle": "2022-05-16T10:08:27.683797Z",
     "shell.execute_reply": "2022-05-16T10:08:27.683270Z"
    }
   },
   "outputs": [],
   "source": [
    "field.X(1.)"
   ]
  },
  {
   "cell_type": "code",
   "execution_count": 7,
   "id": "recreational-suggestion",
   "metadata": {
    "execution": {
     "iopub.execute_input": "2022-05-16T10:08:27.686516Z",
     "iopub.status.busy": "2022-05-16T10:08:27.686100Z",
     "iopub.status.idle": "2022-05-16T10:08:27.691988Z",
     "shell.execute_reply": "2022-05-16T10:08:27.691059Z"
    }
   },
   "outputs": [
    {
     "data": {
      "text/plain": [
       "9.202162424723307e-05"
      ]
     },
     "execution_count": 7,
     "metadata": {},
     "output_type": "execute_result"
    }
   ],
   "source": [
    "field.X()"
   ]
  },
  {
   "cell_type": "code",
   "execution_count": 8,
   "id": "adopted-exchange",
   "metadata": {
    "execution": {
     "iopub.execute_input": "2022-05-16T10:08:27.694384Z",
     "iopub.status.busy": "2022-05-16T10:08:27.693945Z",
     "iopub.status.idle": "2022-05-16T10:08:27.699188Z",
     "shell.execute_reply": "2022-05-16T10:08:27.698738Z"
    }
   },
   "outputs": [
    {
     "data": {
      "text/plain": [
       "0.00022276639938354493"
      ]
     },
     "execution_count": 8,
     "metadata": {},
     "output_type": "execute_result"
    }
   ],
   "source": [
    "field.X()"
   ]
  },
  {
   "cell_type": "code",
   "execution_count": 9,
   "id": "bound-broadcasting",
   "metadata": {
    "execution": {
     "iopub.execute_input": "2022-05-16T10:08:27.701390Z",
     "iopub.status.busy": "2022-05-16T10:08:27.701190Z",
     "iopub.status.idle": "2022-05-16T10:08:27.704763Z",
     "shell.execute_reply": "2022-05-16T10:08:27.704255Z"
    }
   },
   "outputs": [
    {
     "data": {
      "text/plain": [
       "0.0003390947977701823"
      ]
     },
     "execution_count": 9,
     "metadata": {},
     "output_type": "execute_result"
    }
   ],
   "source": [
    "field.X()"
   ]
  },
  {
   "cell_type": "code",
   "execution_count": 10,
   "id": "casual-ghost",
   "metadata": {
    "execution": {
     "iopub.execute_input": "2022-05-16T10:08:27.707595Z",
     "iopub.status.busy": "2022-05-16T10:08:27.707154Z",
     "iopub.status.idle": "2022-05-16T10:08:27.711820Z",
     "shell.execute_reply": "2022-05-16T10:08:27.711304Z"
    }
   },
   "outputs": [
    {
     "data": {
      "text/plain": [
       "0.0004423419634501139"
      ]
     },
     "execution_count": 10,
     "metadata": {},
     "output_type": "execute_result"
    }
   ],
   "source": [
    "field.X()"
   ]
  },
  {
   "cell_type": "markdown",
   "id": "alike-process",
   "metadata": {},
   "source": [
    "As you can see, the field is now ramped in the background with the specified ramp rate. Now, let's try to create a measurement that uses this ability, and ramps the field in the background while measuring:"
   ]
  },
  {
   "cell_type": "code",
   "execution_count": 11,
   "id": "sustained-tiger",
   "metadata": {
    "execution": {
     "iopub.execute_input": "2022-05-16T10:08:27.714277Z",
     "iopub.status.busy": "2022-05-16T10:08:27.713966Z",
     "iopub.status.idle": "2022-05-16T10:08:27.719371Z",
     "shell.execute_reply": "2022-05-16T10:08:27.718923Z"
    }
   },
   "outputs": [],
   "source": [
    "field.ramp_rate(10.)\n",
    "field_X.field(0.0)"
   ]
  },
  {
   "cell_type": "code",
   "execution_count": 12,
   "id": "pharmaceutical-partition",
   "metadata": {
    "execution": {
     "iopub.execute_input": "2022-05-16T10:08:27.721627Z",
     "iopub.status.busy": "2022-05-16T10:08:27.721320Z",
     "iopub.status.idle": "2022-05-16T10:08:27.724898Z",
     "shell.execute_reply": "2022-05-16T10:08:27.724405Z"
    }
   },
   "outputs": [
    {
     "data": {
      "text/plain": [
       "0.0"
      ]
     },
     "execution_count": 12,
     "metadata": {},
     "output_type": "execute_result"
    }
   ],
   "source": [
    "field.X()"
   ]
  },
  {
   "cell_type": "code",
   "execution_count": 13,
   "id": "happy-ordinance",
   "metadata": {
    "execution": {
     "iopub.execute_input": "2022-05-16T10:08:27.727917Z",
     "iopub.status.busy": "2022-05-16T10:08:27.727454Z",
     "iopub.status.idle": "2022-05-16T10:08:28.960708Z",
     "shell.execute_reply": "2022-05-16T10:08:28.960153Z"
    }
   },
   "outputs": [
    {
     "name": "stdout",
     "output_type": "stream",
     "text": [
      "Starting experimental run with id: 60. \n"
     ]
    }
   ],
   "source": [
    "import time\n",
    "meas = qc.Measurement(station=station)\n",
    "meas.register_parameter(field.X)\n",
    "\n",
    "with meas.run() as datasaver:\n",
    "    for B in [0.1, 0.0]:\n",
    "        field.X(B)\n",
    "        while field.X() != B:\n",
    "            datasaver.add_result((field.X, field.X()))\n",
    "            time.sleep(0.01)\n",
    "    datasaver.flush_data_to_database()"
   ]
  },
  {
   "cell_type": "code",
   "execution_count": 14,
   "id": "short-medium",
   "metadata": {
    "execution": {
     "iopub.execute_input": "2022-05-16T10:08:28.963681Z",
     "iopub.status.busy": "2022-05-16T10:08:28.963187Z",
     "iopub.status.idle": "2022-05-16T10:08:29.828750Z",
     "shell.execute_reply": "2022-05-16T10:08:29.828219Z"
    }
   },
   "outputs": [
    {
     "data": {
      "text/plain": [
       "<AxesSubplot:>"
      ]
     },
     "execution_count": 14,
     "metadata": {},
     "output_type": "execute_result"
    },
    {
     "data": {
      "image/png": "[encoded data removed]",
      "text/plain": [
       "<Figure size 432x288 with 1 Axes>"
      ]
     },
     "metadata": {
      "needs_background": "light"
     },
     "output_type": "display_data"
    }
   ],
   "source": [
    "datasaver.dataset.to_pandas_dataframe().plot()"
   ]
  },
  {
   "cell_type": "markdown",
   "id": "incomplete-vietnamese",
   "metadata": {},
   "source": [
    "When specifying multiple source parameters on a given parameter, the grouped parameter will automatically return a `namedtuple` that returns both values."
   ]
  },
  {
   "cell_type": "code",
   "execution_count": 15,
   "id": "dangerous-finder",
   "metadata": {
    "execution": {
     "iopub.execute_input": "2022-05-16T10:08:29.831783Z",
     "iopub.status.busy": "2022-05-16T10:08:29.831467Z",
     "iopub.status.idle": "2022-05-16T10:08:29.836293Z",
     "shell.execute_reply": "2022-05-16T10:08:29.835782Z"
    }
   },
   "outputs": [
    {
     "data": {
      "text/plain": [
       "combined(field=0.0, ramp_rate=10.0)"
      ]
     },
     "execution_count": 15,
     "metadata": {},
     "output_type": "execute_result"
    }
   ],
   "source": [
    "field.combined()"
   ]
  },
  {
   "cell_type": "markdown",
   "id": "consolidated-cooper",
   "metadata": {},
   "source": [
    "We can now also create a custom parameter that does a simple calculation based on the current parameters."
   ]
  },
  {
   "cell_type": "code",
   "execution_count": 16,
   "id": "designed-bloom",
   "metadata": {
    "execution": {
     "iopub.execute_input": "2022-05-16T10:08:29.838836Z",
     "iopub.status.busy": "2022-05-16T10:08:29.838627Z",
     "iopub.status.idle": "2022-05-16T10:08:29.842038Z",
     "shell.execute_reply": "2022-05-16T10:08:29.841512Z"
    }
   },
   "outputs": [],
   "source": [
    "import numpy as np\n",
    "\n",
    "def calculate_ramp_time(X, ramp_rate):\n",
    "    \"\"\"Calculate ramp time in seconds\"\"\"\n",
    "    dfield = np.abs(field.target_field - X)\n",
    "    return 60. * dfield/ramp_rate"
   ]
  },
  {
   "cell_type": "code",
   "execution_count": 17,
   "id": "disabled-logic",
   "metadata": {
    "execution": {
     "iopub.execute_input": "2022-05-16T10:08:29.844462Z",
     "iopub.status.busy": "2022-05-16T10:08:29.844006Z",
     "iopub.status.idle": "2022-05-16T10:08:29.847342Z",
     "shell.execute_reply": "2022-05-16T10:08:29.846800Z"
    },
    "scrolled": true
   },
   "outputs": [],
   "source": [
    "field._create_and_add_parameter(\n",
    "    group_name=\"ramp_time\",\n",
    "    station=station,\n",
    "    paths=[\"field_X.field\", \"field_X.ramp_rate\"],\n",
    "    formatter=calculate_ramp_time\n",
    ")"
   ]
  },
  {
   "cell_type": "code",
   "execution_count": 18,
   "id": "adverse-february",
   "metadata": {
    "execution": {
     "iopub.execute_input": "2022-05-16T10:08:29.849626Z",
     "iopub.status.busy": "2022-05-16T10:08:29.849309Z",
     "iopub.status.idle": "2022-05-16T10:08:29.853495Z",
     "shell.execute_reply": "2022-05-16T10:08:29.852975Z"
    }
   },
   "outputs": [
    {
     "data": {
      "text/plain": [
       "6.0"
      ]
     },
     "execution_count": 18,
     "metadata": {},
     "output_type": "execute_result"
    }
   ],
   "source": [
    "field.ramp_rate(1.0)\n",
    "field.target_field = 0.1\n",
    "field.ramp_time()"
   ]
  },
  {
   "cell_type": "code",
   "execution_count": 19,
   "id": "statutory-xerox",
   "metadata": {
    "execution": {
     "iopub.execute_input": "2022-05-16T10:08:29.856245Z",
     "iopub.status.busy": "2022-05-16T10:08:29.855933Z",
     "iopub.status.idle": "2022-05-16T10:08:29.858773Z",
     "shell.execute_reply": "2022-05-16T10:08:29.858228Z"
    }
   },
   "outputs": [],
   "source": [
    "field.X(0.1)"
   ]
  },
  {
   "cell_type": "code",
   "execution_count": 20,
   "id": "varying-auditor",
   "metadata": {
    "execution": {
     "iopub.execute_input": "2022-05-16T10:08:29.861037Z",
     "iopub.status.busy": "2022-05-16T10:08:29.860729Z",
     "iopub.status.idle": "2022-05-16T10:08:29.864475Z",
     "shell.execute_reply": "2022-05-16T10:08:29.863965Z"
    }
   },
   "outputs": [
    {
     "data": {
      "text/plain": [
       "5.995278835296631"
      ]
     },
     "execution_count": 20,
     "metadata": {},
     "output_type": "execute_result"
    }
   ],
   "source": [
    "field.ramp_time()"
   ]
  },
  {
   "cell_type": "code",
   "execution_count": 21,
   "id": "chubby-nickel",
   "metadata": {
    "execution": {
     "iopub.execute_input": "2022-05-16T10:08:29.867156Z",
     "iopub.status.busy": "2022-05-16T10:08:29.866830Z",
     "iopub.status.idle": "2022-05-16T10:08:30.872218Z",
     "shell.execute_reply": "2022-05-16T10:08:30.871626Z"
    }
   },
   "outputs": [
    {
     "data": {
      "text/plain": [
       "4.987829208374023"
      ]
     },
     "execution_count": 21,
     "metadata": {},
     "output_type": "execute_result"
    }
   ],
   "source": [
    "import time\n",
    "time.sleep(1.)\n",
    "field.ramp_time()"
   ]
  },
  {
   "cell_type": "code",
   "execution_count": 22,
   "id": "italian-liberty",
   "metadata": {
    "execution": {
     "iopub.execute_input": "2022-05-16T10:08:30.874959Z",
     "iopub.status.busy": "2022-05-16T10:08:30.874465Z",
     "iopub.status.idle": "2022-05-16T10:08:31.881200Z",
     "shell.execute_reply": "2022-05-16T10:08:31.880680Z"
    }
   },
   "outputs": [
    {
     "data": {
      "text/plain": [
       "3.979920625686646"
      ]
     },
     "execution_count": 22,
     "metadata": {},
     "output_type": "execute_result"
    }
   ],
   "source": [
    "import time\n",
    "time.sleep(1.)\n",
    "field.ramp_time()"
   ]
  },
  {
   "cell_type": "markdown",
   "id": "0be7ce71",
   "metadata": {},
   "source": [
    "# Devices with channels"
   ]
  },
  {
   "cell_type": "markdown",
   "id": "645a7b20",
   "metadata": {},
   "source": [
    "The YAML file below specifies the instruments with the channels/parameters we wish to group into a new instrument, here called \"device\". The first example simply adds the channel 'as is' using self.add_submodule, while the readout parameter is added as a DelegateParameter."
   ]
  },
  {
   "cell_type": "code",
   "execution_count": 23,
   "id": "f70126a8",
   "metadata": {
    "execution": {
     "iopub.execute_input": "2022-05-16T10:08:31.883840Z",
     "iopub.status.busy": "2022-05-16T10:08:31.883508Z",
     "iopub.status.idle": "2022-05-16T10:08:31.888126Z",
     "shell.execute_reply": "2022-05-16T10:08:31.887590Z"
    }
   },
   "outputs": [
    {
     "name": "stdout",
     "output_type": "stream",
     "text": [
      "Overwriting example.yaml\n"
     ]
    }
   ],
   "source": [
    "%%writefile example.yaml\n",
    "\n",
    "instruments:\n",
    "  lockin:\n",
    "    type: qcodes.tests.instrument_mocks.MockLockin\n",
    "\n",
    "  dac:\n",
    "    type: qcodes.tests.instrument_mocks.MockDAC   \n",
    "\n",
    "  device:\n",
    "    type: qcodes.instrument.delegate.DelegateInstrument\n",
    "    init:\n",
    "      parameters:\n",
    "        readout: lockin.X\n",
    "      channels:\n",
    "        gate_1: dac.ch01\n",
    "      set_initial_values_on_load: true\n",
    "      initial_values:\n",
    "        readout: 1e-5\n",
    "        gate_1.voltage.post_delay: 0.01"
   ]
  },
  {
   "cell_type": "code",
   "execution_count": 24,
   "id": "0a541dc6",
   "metadata": {
    "execution": {
     "iopub.execute_input": "2022-05-16T10:08:31.890470Z",
     "iopub.status.busy": "2022-05-16T10:08:31.890149Z",
     "iopub.status.idle": "2022-05-16T10:08:31.902010Z",
     "shell.execute_reply": "2022-05-16T10:08:31.901531Z"
    }
   },
   "outputs": [],
   "source": [
    "station = qc.Station(config_file=\"example.yaml\")"
   ]
  },
  {
   "cell_type": "code",
   "execution_count": 25,
   "id": "d9e9f745",
   "metadata": {
    "execution": {
     "iopub.execute_input": "2022-05-16T10:08:31.904290Z",
     "iopub.status.busy": "2022-05-16T10:08:31.903978Z",
     "iopub.status.idle": "2022-05-16T10:08:31.938742Z",
     "shell.execute_reply": "2022-05-16T10:08:31.938235Z"
    }
   },
   "outputs": [],
   "source": [
    "lockin = station.load_lockin()\n",
    "dac = station.load_dac()\n",
    "device = station.load_device(station=station)"
   ]
  },
  {
   "cell_type": "code",
   "execution_count": 26,
   "id": "408ca964",
   "metadata": {
    "execution": {
     "iopub.execute_input": "2022-05-16T10:08:31.941269Z",
     "iopub.status.busy": "2022-05-16T10:08:31.940813Z",
     "iopub.status.idle": "2022-05-16T10:08:31.945580Z",
     "shell.execute_reply": "2022-05-16T10:08:31.945068Z"
    }
   },
   "outputs": [
    {
     "name": "stdout",
     "output_type": "stream",
     "text": [
      "<MockDACChannel: dac_ch01 of MockDAC: dac>\n",
      "0.01\n"
     ]
    }
   ],
   "source": [
    "print(device.gate_1)\n",
    "print(device.gate_1.voltage.post_delay)"
   ]
  },
  {
   "cell_type": "code",
   "execution_count": 27,
   "id": "7d4c8192",
   "metadata": {
    "execution": {
     "iopub.execute_input": "2022-05-16T10:08:31.948247Z",
     "iopub.status.busy": "2022-05-16T10:08:31.947930Z",
     "iopub.status.idle": "2022-05-16T10:08:31.963681Z",
     "shell.execute_reply": "2022-05-16T10:08:31.963155Z"
    }
   },
   "outputs": [
    {
     "name": "stdout",
     "output_type": "stream",
     "text": [
      "0.0\n"
     ]
    },
    {
     "data": {
      "text/plain": [
       "-0.6"
      ]
     },
     "execution_count": 27,
     "metadata": {},
     "output_type": "execute_result"
    }
   ],
   "source": [
    "print(device.gate_1.voltage())\n",
    "device.gate_1.voltage(-0.6)\n",
    "device.gate_1.voltage()"
   ]
  },
  {
   "cell_type": "markdown",
   "id": "7af7ccb1",
   "metadata": {},
   "source": [
    "The second example adds a channel using a custom channel class, which takes the initial channel and its name as input and has a parameter current_valid_ranges."
   ]
  },
  {
   "cell_type": "code",
   "execution_count": 28,
   "id": "ad3c0b2c",
   "metadata": {
    "execution": {
     "iopub.execute_input": "2022-05-16T10:08:31.966088Z",
     "iopub.status.busy": "2022-05-16T10:08:31.965882Z",
     "iopub.status.idle": "2022-05-16T10:08:31.969580Z",
     "shell.execute_reply": "2022-05-16T10:08:31.969032Z"
    }
   },
   "outputs": [
    {
     "name": "stdout",
     "output_type": "stream",
     "text": [
      "Overwriting example.yaml\n"
     ]
    }
   ],
   "source": [
    "%%writefile example.yaml\n",
    "\n",
    "instruments:\n",
    "  lockin:\n",
    "    type: qcodes.tests.instrument_mocks.MockLockin\n",
    "\n",
    "  dac:\n",
    "    type: qcodes.tests.instrument_mocks.MockDAC   \n",
    "\n",
    "  device:\n",
    "    type: qcodes.instrument.delegate.DelegateInstrument\n",
    "    init:\n",
    "      parameters:\n",
    "        readout: lockin.X\n",
    "      channels:\n",
    "        type: qcodes.tests.instrument_mocks.MockCustomChannel\n",
    "        gate_1: \n",
    "          channel: dac.ch01\n",
    "          current_valid_range: [-0.5, 0]\n",
    "      set_initial_values_on_load: true\n",
    "      initial_values:\n",
    "        readout: 1e-5"
   ]
  },
  {
   "cell_type": "code",
   "execution_count": 29,
   "id": "7cc5235e",
   "metadata": {
    "execution": {
     "iopub.execute_input": "2022-05-16T10:08:31.972375Z",
     "iopub.status.busy": "2022-05-16T10:08:31.972054Z",
     "iopub.status.idle": "2022-05-16T10:08:31.974999Z",
     "shell.execute_reply": "2022-05-16T10:08:31.974460Z"
    }
   },
   "outputs": [],
   "source": [
    "lockin.close()\n",
    "dac.close()"
   ]
  },
  {
   "cell_type": "code",
   "execution_count": 30,
   "id": "79c37804",
   "metadata": {
    "execution": {
     "iopub.execute_input": "2022-05-16T10:08:31.977240Z",
     "iopub.status.busy": "2022-05-16T10:08:31.976920Z",
     "iopub.status.idle": "2022-05-16T10:08:32.013424Z",
     "shell.execute_reply": "2022-05-16T10:08:32.012927Z"
    }
   },
   "outputs": [],
   "source": [
    "station = qc.Station(config_file=\"example.yaml\")\n",
    "lockin = station.load_lockin()\n",
    "dac = station.load_dac()"
   ]
  },
  {
   "cell_type": "code",
   "execution_count": 31,
   "id": "0075571c",
   "metadata": {
    "execution": {
     "iopub.execute_input": "2022-05-16T10:08:32.015845Z",
     "iopub.status.busy": "2022-05-16T10:08:32.015409Z",
     "iopub.status.idle": "2022-05-16T10:08:32.028956Z",
     "shell.execute_reply": "2022-05-16T10:08:32.028460Z"
    }
   },
   "outputs": [],
   "source": [
    "device = station.load_device(station=station)"
   ]
  },
  {
   "cell_type": "code",
   "execution_count": 32,
   "id": "7ac29e07",
   "metadata": {
    "execution": {
     "iopub.execute_input": "2022-05-16T10:08:32.031226Z",
     "iopub.status.busy": "2022-05-16T10:08:32.030911Z",
     "iopub.status.idle": "2022-05-16T10:08:32.034813Z",
     "shell.execute_reply": "2022-05-16T10:08:32.034283Z"
    }
   },
   "outputs": [
    {
     "data": {
      "text/plain": [
       "<MockCustomChannel: dac_gate_1 of MockDAC: dac>"
      ]
     },
     "execution_count": 32,
     "metadata": {},
     "output_type": "execute_result"
    }
   ],
   "source": [
    "device.gate_1"
   ]
  },
  {
   "cell_type": "code",
   "execution_count": 33,
   "id": "3b3ad596",
   "metadata": {
    "execution": {
     "iopub.execute_input": "2022-05-16T10:08:32.037614Z",
     "iopub.status.busy": "2022-05-16T10:08:32.037163Z",
     "iopub.status.idle": "2022-05-16T10:08:32.040059Z",
     "shell.execute_reply": "2022-05-16T10:08:32.039531Z"
    }
   },
   "outputs": [],
   "source": [
    "device.gate_1.voltage(-0.3)"
   ]
  },
  {
   "cell_type": "code",
   "execution_count": 34,
   "id": "be649732",
   "metadata": {
    "execution": {
     "iopub.execute_input": "2022-05-16T10:08:32.042174Z",
     "iopub.status.busy": "2022-05-16T10:08:32.041962Z",
     "iopub.status.idle": "2022-05-16T10:08:32.045657Z",
     "shell.execute_reply": "2022-05-16T10:08:32.045139Z"
    }
   },
   "outputs": [
    {
     "data": {
      "text/plain": [
       "-0.3"
      ]
     },
     "execution_count": 34,
     "metadata": {},
     "output_type": "execute_result"
    }
   ],
   "source": [
    "device.gate_1.voltage()"
   ]
  },
  {
   "cell_type": "markdown",
   "id": "b2ca1f20",
   "metadata": {},
   "source": [
    "The MockCustomChannel has a parameter `current_valid_range`."
   ]
  },
  {
   "cell_type": "code",
   "execution_count": 35,
   "id": "c01ce8b3",
   "metadata": {
    "execution": {
     "iopub.execute_input": "2022-05-16T10:08:32.048413Z",
     "iopub.status.busy": "2022-05-16T10:08:32.048211Z",
     "iopub.status.idle": "2022-05-16T10:08:32.052097Z",
     "shell.execute_reply": "2022-05-16T10:08:32.051570Z"
    }
   },
   "outputs": [
    {
     "data": {
      "text/plain": [
       "[-0.5, 0]"
      ]
     },
     "execution_count": 35,
     "metadata": {},
     "output_type": "execute_result"
    }
   ],
   "source": [
    "device.gate_1.current_valid_range()"
   ]
  }
 ],
 "metadata": {
  "kernelspec": {
   "display_name": "Python 3.7.9 64-bit ('qcodes_fork': conda)",
   "name": "python379jvsc74a57bd02b540bc2d5f6bd8c1d4c354bd6559a26f5871610d8f84463e1d37eff37c7ba44"
  },
  "language_info": {
   "codemirror_mode": {
    "name": "ipython",
    "version": 3
   },
   "file_extension": ".py",
   "mimetype": "text/x-python",
   "name": "python",
   "nbconvert_exporter": "python",
   "pygments_lexer": "ipython3",
   "version": "3.9.12"
  }
 },
 "nbformat": 4,
 "nbformat_minor": 5
}
